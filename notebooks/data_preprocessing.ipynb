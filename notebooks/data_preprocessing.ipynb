{
 "cells": [
  {
   "cell_type": "markdown",
   "metadata": {},
   "source": [
    "# Data Preprocessing for Gym Churn Risk Prediction\n",
    "\n",
    "This notebook is used for data preprocessing tasks, including data cleaning, feature engineering, and preparing the dataset for model training."
   ]
  },
  {
   "cell_type": "code",
   "execution_count": 1,
   "metadata": {},
   "outputs": [],
   "source": [
    "import pandas as pd\n",
    "\n",
    "# Load user data\n",
    "users_data = pd.read_csv('../data/USERS_DATA.CSV')\n",
    "subscription_plans = pd.read_csv('../data/SUBSCRIPTION_PLANS.CSV')\n",
    "gym_locations = pd.read_csv('../data/GYM_LOCATIONS_DATA.CSV')\n",
    "\n",
    "# Display the first few rows of the user data\n",
    "users_data.head()"
   ]
  },
  {
   "cell_type": "code",
   "execution_count": 2,
   "metadata": {},
   "outputs": [],
   "source": [
    "# Data Cleaning\n",
    "# Check for missing values\n",
    "missing_values = users_data.isnull().sum()\n",
    "missing_values[missing_values > 0]"
   ]
  },
  {
   "cell_type": "code",
   "execution_count": 3,
   "metadata": {},
   "outputs": [],
   "source": [
    "# Fill missing values or drop rows/columns as necessary\n",
    "# Example: Filling missing ages with the median age\n",
    "users_data['age'].fillna(users_data['age'].median(), inplace=True)\n",
    "\n",
    "# Check the data types\n",
    "users_data.dtypes"
   ]
  },
  {
   "cell_type": "code",
   "execution_count": 4,
   "metadata": {},
   "outputs": [],
   "source": [
    "# Feature Engineering\n",
    "# Convert sign_up_date to datetime\n",
    "users_data['sign_up_date'] = pd.to_datetime(users_data['sign_up_date'])\n",
    "\n",
    "# Create a new feature: account_age in days\n",
    "users_data['account_age_days'] = (pd.to_datetime('today') - users_data['sign_up_date']).dt.days\n",
    "\n",
    "# Display the updated dataframe\n",
    "users_data.head()"
   ]
  },
  {
   "cell_type": "code",
   "execution_count": 5,
   "metadata": {},
   "outputs": [],
   "source": [
    "# Merge with subscription plans to get price information\n",
    "users_data = users_data.merge(subscription_plans, on='subscription_plan', how='left')\n",
    "\n",
    "# Display the updated dataframe\n",
    "users_data.head()"
   ]
  },
  {
   "cell_type": "code",
   "execution_count": 6,
   "metadata": {},
   "outputs": [],
   "source": [
    "# Save the preprocessed data for model training\n",
    "users_data.to_csv('../data/preprocessed_users_data.csv', index=False)"
   ]
  }
 ],
 "metadata": {
  "kernelspec": {
   "display_name": "Python 3",
   "language": "python",
   "name": "python3"
  },
  "language_info": {
   "codemirror_mode": {
    "name": "ipython",
    "version": 3
   },
   "file_extension": ".py",
   "mimetype": "text/x-python",
   "name": "python",
   "nbconvert_exporter": "python",
   "pygments_lexer": "ipython3",
   "version": "3.8.5"
  }
 },
 "nbformat": 4,
 "nbformat_minor": 4
}